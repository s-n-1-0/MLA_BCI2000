{
 "cells": [
  {
   "cell_type": "code",
   "execution_count": null,
   "id": "fb456afc",
   "metadata": {
    "editable": true,
    "slideshow": {
     "slide_type": ""
    },
    "tags": []
   },
   "outputs": [],
   "source": [
    "import numpy as np\n",
    "import keras\n",
    "import matplotlib.pyplot as plt\n",
    "from scipy import stats\n",
    "from sklearn.metrics import confusion_matrix\n",
    "from sklearn.linear_model import LinearRegression\n",
    "from train_code.generator.raw_generator import transpose_raw1d,transpose_raw2d\n",
    "ch_size = 13\n",
    "block_size = 750\n",
    "step = 250\n",
    "fs = 500"
   ]
  },
  {
   "cell_type": "code",
   "execution_count": null,
   "id": "16297418-339c-4f15-b168-7a18552209c6",
   "metadata": {
    "editable": true,
    "slideshow": {
     "slide_type": ""
    },
    "tags": [
     "parameters"
    ]
   },
   "outputs": [],
   "source": [
    "data_path = \"C:/MLA_Saves_Bk/10002/s4m2_concatenate.npy\"\n",
    "d1_model_path = \"/models/dec1/model-85.h5\"\n",
    "d2_model_path = \"/models/dec2/model-23.h5\""
   ]
  },
  {
   "cell_type": "code",
   "execution_count": null,
   "id": "b414d248",
   "metadata": {
    "editable": true,
    "slideshow": {
     "slide_type": ""
    },
    "tags": []
   },
   "outputs": [],
   "source": [
    "full_data = np.load(data_path)\n",
    "predictclass_list = []\n",
    "trueclass_list = []\n",
    "for i in range(full_data.shape[0]):\n",
    "    data = full_data[i,:,:]\n",
    "    _trueclass_list = data[-3,:]\n",
    "    true_flags = list((_trueclass_list == 1) | (_trueclass_list == 2))\n",
    "    trueclass_list.append(int(_trueclass_list[true_flags][0]))\n",
    "    si = true_flags.index(True)\n",
    "    ei = true_flags[::-1].index(True)\n",
    "    #plt.plot(range(len(x[si:-ei])),x[si:-ei])\n",
    "    stim_data = data[:,si:-ei-1]\n",
    "    #予測クラスの取得\n",
    "    predict_counts = stim_data[-2,:]\n",
    "    predict_count_indexes = []\n",
    "    prev_pc = -1\n",
    "    for j in range(len(predict_counts)):\n",
    "        pc = predict_counts[j]\n",
    "        if prev_pc != pc:\n",
    "            prev_pc = pc\n",
    "            if pc > 0:\n",
    "                predict_count_indexes.append(j)\n",
    "\n",
    "    #print(predict_count_indexes)\n",
    "    def pick_predictclass(pci):\n",
    "        x = stim_data[-1,pci:pci+100]\n",
    "        mode = stats.mode(x,keepdims=True)[0]\n",
    "        if mode == 0:\n",
    "            for f in x:\n",
    "                if f != 0:\n",
    "                    return f\n",
    "        return mode\n",
    "    #カウントアップと同時に予測フラグが立つわけではないので最頻値で求める\n",
    "    _predictclass_list = [int(pick_predictclass(pci)) for pci in predict_count_indexes]\n",
    "    #plt.plot(range(stim_data[:,pci1:pci1+100].shape[1]),stim_data[-2,pci1:pci1+100])\n",
    "    #plt.plot(range(stim_data[:,pci1:pci1+100].shape[1]),stim_data[-1,pci1:pci1+100])\n",
    "    #print(np.std(_predictclass_list))\n",
    "    predictclass_list.append(_predictclass_list)\n",
    "#predictclass_list"
   ]
  },
  {
   "cell_type": "code",
   "execution_count": null,
   "id": "49eed816",
   "metadata": {
    "tags": []
   },
   "outputs": [],
   "source": [
    "def analyse1():\n",
    "    predictclass_mode_list = [int(stats.mode(pcl,keepdims=True)[0]) if len(pcl) > 0 else -1 for pcl in predictclass_list]\n",
    "    ans = [trueclass_list[i] == predictclass_mode_list[i] for i in range(len(trueclass_list))]\n",
    "    ans2 = np.array(trueclass_list)[ans] #np.array(predictclass_list) & np.array(ans)\n",
    "    print(\"精度:\" + str(len(ans2)/len(ans)))\n",
    "    std_list = []\n",
    "    left_mean_list = []\n",
    "    left_std_list = []\n",
    "    right_mean_list = []\n",
    "    right_std_list = []\n",
    "    mn_predictclass_list = []\n",
    "    print(\"真|判別シークエンス|最頻|〇/×|std|mean\")\n",
    "    for tl, pl,pml,a in zip(trueclass_list,predictclass_list,predictclass_mode_list,ans):\n",
    "        std = np.std(pl)\n",
    "        mean = np.mean(pl)\n",
    "        #if tl == 2:\n",
    "        print(tl,pl,pml,\"〇\" if a else \"×\",std,mean)\n",
    "        mn_predictclass_list.append([1 if tl == p else 0 for p in pl])\n",
    "        std_list.append(std)\n",
    "        if tl == 1:#1==left\n",
    "            left_std_list.append(std)\n",
    "            left_mean_list.append(mean)\n",
    "        else:\n",
    "            right_std_list.append(std)\n",
    "            right_mean_list.append(mean)\n",
    "\n",
    "    # 混同行列を作成\n",
    "    cm = confusion_matrix(trueclass_list, predictclass_mode_list)\n",
    "    # 混同行列を表示\n",
    "    print(\"Confusion Matrix:\")\n",
    "    print(cm)\n",
    "    print(f\"真が左の平均{np.mean(left_mean_list)} 標準偏差{np.mean(left_std_list)}\")\n",
    "    print(f\"真が右の平均{np.mean(right_mean_list)} 標準偏差{np.mean(right_std_list)}\")\n",
    "    return mn_predictclass_list\n",
    "mn_predictclass_list = analyse1()"
   ]
  },
  {
   "cell_type": "code",
   "execution_count": null,
   "id": "69003f78",
   "metadata": {
    "tags": []
   },
   "outputs": [],
   "source": [
    "def plot_lg(x,y,color):\n",
    "    # 線形回帰モデル、予測値\n",
    "    model = LinearRegression()\n",
    "    model_lin = model.fit(x, y)\n",
    "    y_lin_fit = model_lin.predict(x)\n",
    "    plt.plot(x, y_lin_fit, color = color, linewidth=0.5)\n",
    "def plot_epochs(x,y,title):\n",
    "    # 回帰分析　線形\n",
    "    itlist = np.array([(i,t) for i,t in enumerate(trueclass_list) if t == 1]).T\n",
    "    lx = itlist[0,:].reshape(-1, 1)\n",
    "    ly = y[lx].reshape(-1, 1)\n",
    "    lp = plt.scatter(lx,ly,marker=\"o\",label=\"left hand\")\n",
    "    itlist = np.array([(i,t) for i,t in enumerate(trueclass_list) if t == 2]).T\n",
    "    rx = itlist[0,:].reshape(-1, 1)\n",
    "    ry = y[rx].reshape(-1, 1)\n",
    "    rp = plt.scatter(rx,ry,marker=\"^\",label=\"right hand\")\n",
    "    plt.legend(loc='upper right',bbox_to_anchor=(1.3, 1))\n",
    "    plt.draw()\n",
    "    l_color = lp.get_facecolor()\n",
    "    r_color = rp.get_facecolor()\n",
    "    plot_lg(x,y,'#000000')\n",
    "    plot_lg(lx,ly,l_color)\n",
    "    plot_lg(rx,ry,r_color)\n",
    "    plt.title(title)\n",
    "    plt.show()\n",
    "\n",
    "def analyse2():\n",
    "    #判別ポイントごとの平均\n",
    "    _mn_list = [mpl[:len(mn_predictclass_list[0])] for mpl in mn_predictclass_list]\n",
    "    plt.errorbar(range(len(mn_predictclass_list[0])),np.mean(_mn_list,axis=0),yerr=np.std(_mn_list,axis=0),\n",
    "                 capsize=5,ecolor='orange')\n",
    "    plt.title(\"match 1or0\")\n",
    "    plt.show()\n",
    "    print(np.std(_mn_list,axis=0))\n",
    "    title = \"Length of time matched (mean)\"\n",
    "    x = np.array(range(len(_mn_list))).reshape(-1, 1)\n",
    "    y = np.mean(_mn_list,axis=-1)\n",
    "    plot_epochs(x,y,title)\n",
    "\n",
    "    title = \"Length of time matched (std)\"\n",
    "    x = np.array(range(len(_mn_list))).reshape(-1, 1)\n",
    "    y = np.std(_mn_list,axis=-1)\n",
    "    plot_epochs(x,y,title)\n",
    "analyse2()"
   ]
  },
  {
   "cell_type": "markdown",
   "id": "d5278929-0464-4113-9bdc-7c96213cfa7b",
   "metadata": {},
   "source": [
    "## 以下モデル評価\n",
    "predictclass_listは初期化される"
   ]
  },
  {
   "cell_type": "code",
   "execution_count": null,
   "id": "7c74591c-40b3-4de1-a2ca-dbf9fa82c716",
   "metadata": {
    "tags": []
   },
   "outputs": [],
   "source": [
    "import logging\n",
    "import numpy as np\n",
    "from sklearn.preprocessing import StandardScaler\n",
    "from scipy.signal import butter, filtfilt, periodogram\n",
    "\n",
    "#TODO: これは冗長\n",
    "def preprocess(data,fs):\n",
    "    #print(f\"{scaler.mean_} / {scaler.scale_}\")\n",
    "    # バンドパスフィルタを適用\n",
    "    if True:\n",
    "        # バンドパスフィルタの設定\n",
    "        lowcut = 8  # バンドパスフィルタの下限周波数\n",
    "        highcut = 30  # バンドパスフィルタの上限周波数\n",
    "        nyquist = 0.5 * fs\n",
    "        low = lowcut / nyquist\n",
    "        high = highcut / nyquist\n",
    "        b, a = butter(2, [low, high], btype='band')\n",
    "        data = filtfilt(b, a, data)\n",
    "\n",
    "    # データを標準化\n",
    "    scaler = StandardScaler()\n",
    "    data = scaler.fit_transform(data.T).T\n",
    "    # パワースペクトルへの変換\n",
    "    #freq, data = periodogram(data, fs=fs)\n",
    "    #\"\"\"\n",
    "    #freq_range = [5, 20]  # 使用する周波数範囲\n",
    "    # 特定の周波数範囲以内のインデックスを取得\n",
    "    #in_range_idx = np.logical_and(freq >= freq_range[0], freq <= freq_range[1])\n",
    "    # 特定の周波数範囲以内の特徴を残す\n",
    "    #data = data[:, in_range_idx]\n",
    "    #\"\"\"\n",
    "    # 圧縮\n",
    "    #new_data = []\n",
    "    #for i in range(0, data.shape[0],20):\n",
    "    #    new_data.append(np.mean(data[i:i+chunk_size], axis=0))\n",
    "    return np.array(data)"
   ]
  },
  {
   "cell_type": "markdown",
   "id": "d3f112d1-6544-4cd7-85f2-af244f518b9c",
   "metadata": {},
   "source": [
    "## デコーダー1"
   ]
  },
  {
   "cell_type": "code",
   "execution_count": null,
   "id": "e10301d2-f665-44b0-a598-e7d10d770918",
   "metadata": {
    "tags": []
   },
   "outputs": [],
   "source": [
    "def eval_sequence(data:np.ndarray,block_size:int,step:int,transpose_func,model):\n",
    "    dataset = np.array([preprocess(data[:,ei-block_size:ei],fs) for ei in range(block_size,data.shape[1],step)])\n",
    "    dataset = transpose_func(0,dataset)\n",
    "    return [2 if p > 0.5 else 1 for p in model.predict(dataset,verbose = 0)]\n",
    "def specificity(y_true, y_pred):\n",
    "    # y_true: 正解ラベル\n",
    "    # y_pred: 予測ラベル（確率ではなくクラスの予測値）\n",
    "    # 予測ラベルをクラスに変換\n",
    "    y_pred = K.round(y_pred)\n",
    "    # Confusion matrixの計算\n",
    "    true_negatives = K.sum(K.round(K.clip((1 - y_true) * (1 - y_pred), 0, 1)))\n",
    "    false_positives = K.sum(K.round(K.clip((1 - y_true) * y_pred, 0, 1)))\n",
    "    # 特異度の計算\n",
    "    specificity = true_negatives / (true_negatives + false_positives + K.epsilon())\n",
    "d1_model = keras.models.load_model(d1_model_path,custom_objects={\"specificity\":specificity})\n",
    "all_data = full_data[:,:ch_size,:]\n",
    "predictclass_list = []\n",
    "for i in range(all_data.shape[0]):\n",
    "    predictclass_list.append(eval_sequence(all_data[i,:,:],block_size,step,transpose_raw2d,d1_model))\n",
    "\n",
    "analyse1()\n",
    "analyse2()"
   ]
  },
  {
   "cell_type": "markdown",
   "id": "1f27c46b-002f-4b45-95d7-923f7e283b38",
   "metadata": {},
   "source": [
    "## デコーダー2"
   ]
  },
  {
   "cell_type": "code",
   "execution_count": null,
   "id": "13b44cc1-ec03-4048-80b9-aa3b4f2c585d",
   "metadata": {
    "tags": []
   },
   "outputs": [],
   "source": [
    "d2_model = keras.models.load_model(d2_model_path,custom_objects={\"specificity\":specificity})\n",
    "all_data = full_data[:,:ch_size,:]\n",
    "predictclass_list = []\n",
    "for i in range(all_data.shape[0]):\n",
    "    predictclass_list.append(eval_sequence(all_data[i,:,:],block_size,step,transpose_raw1d,d2_model))\n",
    "\n",
    "analyse1()\n",
    "analyse2()"
   ]
  }
 ],
 "metadata": {
  "kernelspec": {
   "display_name": "Python 3 (ipykernel)",
   "language": "python",
   "name": "python3"
  },
  "language_info": {
   "codemirror_mode": {
    "name": "ipython",
    "version": 3
   },
   "file_extension": ".py",
   "mimetype": "text/x-python",
   "name": "python",
   "nbconvert_exporter": "python",
   "pygments_lexer": "ipython3",
   "version": "3.9.12"
  }
 },
 "nbformat": 4,
 "nbformat_minor": 5
}
