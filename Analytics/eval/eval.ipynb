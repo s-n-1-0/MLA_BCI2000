{
 "cells": [
  {
   "cell_type": "code",
   "execution_count": null,
   "id": "fb456afc",
   "metadata": {
    "editable": true,
    "slideshow": {
     "slide_type": ""
    },
    "tags": []
   },
   "outputs": [],
   "source": [
    "import os\n",
    "import sys\n",
    "sys.path.append(os.path.join(os.path.dirname(os.path.abspath('__file__')), '..'))\n",
    "import numpy as np\n",
    "import keras\n",
    "import matplotlib.pyplot as plt\n",
    "from scipy import stats\n",
    "from scipy.signal import spectrogram\n",
    "from sklearn.metrics import confusion_matrix\n",
    "from sklearn.linear_model import LinearRegression\n",
    "from train_code.generator.raw_generator import transpose_raw1d,transpose_raw2d\n",
    "from npy2trials import load_data\n",
    "from sklearn.preprocessing import StandardScaler\n",
    "from scipy.signal import butter, filtfilt, periodogram\n",
    "ch_list = ['FC5','FC1','FC2','FC6','C3','C1','Cz','C2','C4','CP5','CP1','CP2','CP6']\n",
    "ch_size = len(ch_list)\n",
    "block_size = 750\n",
    "step = 250\n",
    "fs = 500"
   ]
  },
  {
   "cell_type": "code",
   "execution_count": null,
   "id": "16297418-339c-4f15-b168-7a18552209c6",
   "metadata": {
    "editable": true,
    "slideshow": {
     "slide_type": ""
    },
    "tags": [
     "parameters"
    ]
   },
   "outputs": [],
   "source": [
    "data_path = \"C:/MLA_Saves_Bk/10002/s4m2_concatenate.npy\"\n",
    "d1_model_path = \"/models/dec1/model-85.h5\"\n",
    "d2_model_path = \"/models/dec2/model-23.h5\""
   ]
  },
  {
   "cell_type": "code",
   "execution_count": null,
   "id": "b414d248",
   "metadata": {
    "editable": true,
    "slideshow": {
     "slide_type": ""
    },
    "tags": []
   },
   "outputs": [],
   "source": [
    "full_data = np.load(data_path)\n",
    "stim_data,predictclass_list,trueclass_list = load_data(full_data,fs)\n",
    "minp = len(predictclass_list[0]) #TODO:15d1s2\n",
    "for item in predictclass_list:\n",
    "    if minp > len(item):\n",
    "        minp = len(item)\n",
    "predictclass_list = [item[:minp] for item in predictclass_list]\n",
    "stim_data.shape"
   ]
  },
  {
   "cell_type": "markdown",
   "id": "150d5c0e-1b70-4dcf-957d-61b897326340",
   "metadata": {},
   "source": [
    "# データプレビュー"
   ]
  },
  {
   "cell_type": "code",
   "execution_count": null,
   "id": "7c74591c-40b3-4de1-a2ca-dbf9fa82c716",
   "metadata": {
    "tags": []
   },
   "outputs": [],
   "source": [
    "import logging\n",
    "import numpy as np\n",
    "from sklearn.preprocessing import StandardScaler\n",
    "from scipy.signal import butter, filtfilt, periodogram\n",
    "\n",
    "#TODO: これは冗長\n",
    "def preprocess(data,fs):\n",
    "    #print(f\"{scaler.mean_} / {scaler.scale_}\")\n",
    "    # バンドパスフィルタを適用\n",
    "    if True:\n",
    "        # バンドパスフィルタの設定\n",
    "        lowcut = 8  # バンドパスフィルタの下限周波数\n",
    "        highcut = 30  # バンドパスフィルタの上限周波数\n",
    "        nyquist = 0.5 * fs\n",
    "        low = lowcut / nyquist\n",
    "        high = highcut / nyquist\n",
    "        b, a = butter(2, [low, high], btype='band')\n",
    "        data = filtfilt(b, a, data)\n",
    "\n",
    "    # データを標準化\n",
    "    scaler = StandardScaler()\n",
    "    data = scaler.fit_transform(data.T).T\n",
    "    return np.array(data)"
   ]
  },
  {
   "cell_type": "code",
   "execution_count": null,
   "id": "28976212-91ab-4d97-95a9-fb19bbddba7c",
   "metadata": {
    "tags": []
   },
   "outputs": [],
   "source": [
    "left_data = []\n",
    "right_data = []\n",
    "\n",
    "for i in range(stim_data.shape[0]):\n",
    "    data = stim_data[i,:ch_size,:]\n",
    "    y = trueclass_list[i]\n",
    "    if y==1:\n",
    "        left_data.append(preprocess(data,fs))\n",
    "    else:\n",
    "        right_data.append(preprocess(data,fs))\n",
    "left_data = np.array(left_data)\n",
    "right_data = np.array(right_data)\n",
    "\n",
    "def plot_spec(key:str,data,ft=None):\n",
    "    row = 5\n",
    "    col = 3\n",
    "    fig = plt.figure(figsize=(20, 12))\n",
    "    plt.subplots_adjust(wspace=0.4, hspace=0.8)\n",
    "    if ft is None:\n",
    "        specs = [[] for _ in range(data.shape[0])]\n",
    "        for i in range(data.shape[0]):\n",
    "            for j in range(data.shape[1]):\n",
    "                frequencies, times, spectrogram_data = spectrogram(data[i,j,:], fs)\n",
    "                specs[i].append(spectrogram_data)\n",
    "        specs = np.array(specs)\n",
    "        specs = np.sum(specs,axis=0)\n",
    "    else:\n",
    "        frequencies, times = ft\n",
    "        specs = data\n",
    "    # スペクトログラムの可視化\n",
    "    for i in range(ch_size):\n",
    "        plt.subplot(row, col, i+1)\n",
    "        p = 10 * np.log10(specs[i,:,:]) \n",
    "        #p = np.log(np.abs(p))\n",
    "        plt.pcolormesh(times, frequencies, p,vmax=16)\n",
    "        plt.colorbar()#label='Power/Frequency (dB/Hz)')\n",
    "        plt.title(ch_list[i])\n",
    "        #plt.clim(-50, 5) \n",
    "        plt.ylim(0, 50)\n",
    "        plt.grid()\n",
    "    fig.suptitle(key + ' Spectrogram')\n",
    "    plt.show()\n",
    "    return frequencies, times,specs\n",
    "frequencies, times,sl = plot_spec(\"Left\",left_data)\n",
    "_,_,sr = plot_spec(\"Right\",right_data)\n",
    "\n",
    "row = 5\n",
    "col = 3\n",
    "fig = plt.figure(figsize=(10, 6))\n",
    "plt.subplots_adjust(wspace=0.4, hspace=0.6)\n",
    "specs = sr - sl\n",
    "# スペクトログラムの可視化\n",
    "for i in range(ch_size):\n",
    "    plt.subplot(row, col, i+1)\n",
    "    plt.pcolormesh(times, frequencies, specs[i,:,:], shading='gouraud')\n",
    "    plt.colorbar()#label='Power/Frequency (dB/Hz)')\n",
    "    #plt.clim(-50, 5) \n",
    "    plt.ylim(0, 25)\n",
    "    plt.grid()\n",
    "fig.suptitle(\"Diff Spectrogram\")\n",
    "plt.show()"
   ]
  },
  {
   "cell_type": "markdown",
   "id": "e83d9185-147a-40f2-abd8-7a06aee786c2",
   "metadata": {},
   "source": [
    "# 評価"
   ]
  },
  {
   "cell_type": "code",
   "execution_count": null,
   "id": "49eed816",
   "metadata": {
    "tags": []
   },
   "outputs": [],
   "source": [
    "def calculate_acc(tclasses,pclass_list):\n",
    "    predictclass_mode_list = []\n",
    "    mode_ans = []\n",
    "    total_len = np.sum([len(p) for p in pclass_list])\n",
    "    test_count = 0\n",
    "    for t,p in zip(tclasses,pclass_list):#total_acc算出 calculate\n",
    "        assert len(p) > 0,p\n",
    "        mode_predict = int(stats.mode(p,keepdims=True)[0])\n",
    "        predictclass_mode_list.append(mode_predict)\n",
    "        mode_ans.append(mode_predict == t)\n",
    "        p_true = np.count_nonzero(np.array(p) == t)\n",
    "        if p_true > len(p) // 2:\n",
    "            test_count += 1\n",
    "            #TODO: ここで詳細なacc算出\n",
    "        #print(t,p_true)\n",
    "    mode_ans2 = np.array(tclasses)[mode_ans]\n",
    "    acc = len(mode_ans2)/len(mode_ans)\n",
    "    return acc,predictclass_mode_list\n",
    "def analyse1():\n",
    "    acc,predictclass_mode_list = calculate_acc(trueclass_list, predictclass_list)\n",
    "    std_list = []\n",
    "    left_mean_list = []\n",
    "    left_std_list = []\n",
    "    right_mean_list = []\n",
    "    right_std_list = []\n",
    "    mn_predictclass_list = []\n",
    "    # 混同行列を作成\n",
    "    cm = confusion_matrix(trueclass_list, predictclass_mode_list)\n",
    "    trsums = np.sum(cm,axis=1)\n",
    "    recall = cm[0,0]/trsums[0]\n",
    "    spec = cm[1,1]/trsums[1]\n",
    "    if trsums[0] == trsums[1]:\n",
    "        fixed_acc = None\n",
    "        fixed_recall = None\n",
    "        fixed_spec = None\n",
    "    else:\n",
    "        #acc修正\n",
    "        minsum = np.min(trsums)\n",
    "        lcount = rcount = 0\n",
    "        mode_ans = []\n",
    "        fixed_trueclasses = []\n",
    "        fixed_predictclass_list = []\n",
    "        for i,y in enumerate(trueclass_list):\n",
    "            if y == 1:\n",
    "                if lcount == minsum:\n",
    "                    continue\n",
    "                lcount+=1\n",
    "            else:\n",
    "                if rcount == minsum:\n",
    "                    continue\n",
    "                rcount+=1\n",
    "            fixed_trueclasses.append(trueclass_list[i])\n",
    "            fixed_predictclass_list.append(predictclass_list[i])\n",
    "        print(len(mode_ans))\n",
    "        fixed_acc,fixed_predictclass_mode_list = calculate_acc(fixed_trueclasses, fixed_predictclass_list)\n",
    "        fixed_cm = confusion_matrix(np.array(fixed_trueclasses), np.array(fixed_predictclass_mode_list))\n",
    "        fixed_recall = fixed_cm[0,0]/minsum\n",
    "        fixed_spec = fixed_cm[1,1]/minsum\n",
    "            \n",
    "        \n",
    "    print(f\"精度:{acc},再現率(Recall):{recall},特異度(Specificity):{spec}\")\n",
    "    if fixed_acc is not None: print(f\"精度{fixed_acc},再現率(Recall):{fixed_recall},特異度(Specificity):{fixed_spec} :補正:アンダーサンプリング)\")\n",
    "    # 混同行列を表示\n",
    "    print(\"混同行列:\")\n",
    "    print(cm)\n",
    "    if fixed_acc is not None:\n",
    "        print(\"修正混同行列:\")\n",
    "        print(fixed_cm)\n",
    "\n",
    "    print(\"-------通常評価-------\")\n",
    "    print(\"　|真|判別シークエンス|最頻|〇/×|std|mean\")\n",
    "    for i,_pack in enumerate(zip(trueclass_list,predictclass_list,predictclass_mode_list)):\n",
    "        tl, pl,pml = _pack\n",
    "        std = np.std(pl)\n",
    "        mean = np.mean(pl)\n",
    "        #if tl == 2:\n",
    "        print(i+1,tl,pl,pml,\"〇\" if np.count_nonzero(np.array(pl) == tl) > len(pl)//2 else \"×\",std,mean)\n",
    "        mn_predictclass_list.append([1 if tl == p else 0 for p in pl])\n",
    "        std_list.append(std)\n",
    "        if tl == 1:#1==left\n",
    "            left_std_list.append(std)\n",
    "            left_mean_list.append(mean)\n",
    "        else:\n",
    "            right_std_list.append(std)\n",
    "            right_mean_list.append(mean)\n",
    "    print(f\"真が左の平均{np.mean(left_mean_list)} 標準偏差{np.mean(left_std_list)}\")\n",
    "    print(f\"真が右の平均{np.mean(right_mean_list)} 標準偏差{np.mean(right_std_list)}\")\n",
    "    return acc,fixed_acc,recall,fixed_recall,spec,fixed_spec,mn_predictclass_list\n",
    "data_acc,data_fixed_acc,data_recall,data_fixed_recall,data_spec,data_fixed_spec,mn_predictclass_list = analyse1()"
   ]
  },
  {
   "cell_type": "code",
   "execution_count": null,
   "id": "69003f78",
   "metadata": {
    "tags": []
   },
   "outputs": [],
   "source": [
    "def plot_lg(x,y,color):\n",
    "    # 線形回帰モデル、予測値\n",
    "    model = LinearRegression()\n",
    "    model_lin = model.fit(x, y)\n",
    "    y_lin_fit = model_lin.predict(x)\n",
    "    plt.plot(x, y_lin_fit, color = color, linewidth=0.5)\n",
    "def plot_epochs(x,y,title):\n",
    "    # 回帰分析　線形\n",
    "    itlist = np.array([(i,t) for i,t in enumerate(trueclass_list) if t == 1]).T\n",
    "    lx = itlist[0,:].reshape(-1, 1)\n",
    "    ly = y[lx].reshape(-1, 1)\n",
    "    lp = plt.scatter(lx,ly,marker=\"o\",label=\"left hand\")\n",
    "    itlist = np.array([(i,t) for i,t in enumerate(trueclass_list) if t == 2]).T\n",
    "    rx = itlist[0,:].reshape(-1, 1)\n",
    "    ry = y[rx].reshape(-1, 1)\n",
    "    rp = plt.scatter(rx,ry,marker=\"^\",label=\"right hand\")\n",
    "    plt.legend(loc='upper right',bbox_to_anchor=(1.3, 1))\n",
    "    plt.draw()\n",
    "    l_color = lp.get_facecolor()\n",
    "    r_color = rp.get_facecolor()\n",
    "    plot_lg(x,y,'#000000')\n",
    "    plot_lg(lx,ly,l_color)\n",
    "    plot_lg(rx,ry,r_color)\n",
    "    plt.title(title)\n",
    "    plt.show()\n",
    "\n",
    "def analyse2():\n",
    "    #判別ポイントごとの平均\n",
    "    _mn_list = [mpl[:len(mn_predictclass_list[0])] for mpl in mn_predictclass_list]\n",
    "    plt.errorbar(range(len(mn_predictclass_list[0])),np.mean(_mn_list,axis=0),yerr=np.std(_mn_list,axis=0),\n",
    "                 capsize=5,ecolor='orange')\n",
    "    plt.title(\"match 1or0\")\n",
    "    plt.show()\n",
    "    print(np.std(_mn_list,axis=0))\n",
    "    title = \"Length of time matched (mean)\"\n",
    "    x = np.array(range(len(_mn_list))).reshape(-1, 1)\n",
    "    y = np.mean(_mn_list,axis=-1)\n",
    "    plot_epochs(x,y,title)\n",
    "\n",
    "    title = \"Length of time matched (std)\"\n",
    "    x = np.array(range(len(_mn_list))).reshape(-1, 1)\n",
    "    y = np.std(_mn_list,axis=-1)\n",
    "    plot_epochs(x,y,title)\n",
    "analyse2()"
   ]
  },
  {
   "cell_type": "markdown",
   "id": "d5278929-0464-4113-9bdc-7c96213cfa7b",
   "metadata": {},
   "source": [
    "# 以下モデル評価\n",
    "predictclass_listは初期化される"
   ]
  },
  {
   "cell_type": "markdown",
   "id": "d3f112d1-6544-4cd7-85f2-af244f518b9c",
   "metadata": {},
   "source": [
    "## デコーダー1"
   ]
  },
  {
   "cell_type": "code",
   "execution_count": null,
   "id": "e10301d2-f665-44b0-a598-e7d10d770918",
   "metadata": {
    "tags": []
   },
   "outputs": [],
   "source": [
    "def eval_sequence(data:np.ndarray,block_size:int,step:int,transpose_func,model):\n",
    "    dataset = np.array([preprocess(data[:,ei-block_size:ei],fs) for ei in range(block_size,data.shape[1],step)])\n",
    "    dataset = transpose_func(0,dataset)\n",
    "    return [2 if p > 0.5 else 1 for p in model.predict(dataset,verbose = 0)]\n",
    "def specificity(y_true, y_pred):\n",
    "    # y_true: 正解ラベル\n",
    "    # y_pred: 予測ラベル（確率ではなくクラスの予測値）\n",
    "    # 予測ラベルをクラスに変換\n",
    "    y_pred = K.round(y_pred)\n",
    "    # Confusion matrixの計算\n",
    "    true_negatives = K.sum(K.round(K.clip((1 - y_true) * (1 - y_pred), 0, 1)))\n",
    "    false_positives = K.sum(K.round(K.clip((1 - y_true) * y_pred, 0, 1)))\n",
    "    # 特異度の計算\n",
    "    specificity = true_negatives / (true_negatives + false_positives + K.epsilon())\n",
    "d1_model = keras.models.load_model(d1_model_path,custom_objects={\"specificity\":specificity})\n",
    "all_data = stim_data[:,:ch_size,:]\n",
    "predictclass_list = []\n",
    "for i in range(all_data.shape[0]):\n",
    "    predictclass_list.append(eval_sequence(all_data[i,:,:],block_size,step,transpose_raw2d,d1_model))\n",
    "d1_acc,d1_fixed_acc,d1_recall,d1_fixed_recall,d1_spec,d1_fixed_spec,_ = analyse1()\n",
    "analyse2()"
   ]
  },
  {
   "cell_type": "markdown",
   "id": "1f27c46b-002f-4b45-95d7-923f7e283b38",
   "metadata": {},
   "source": [
    "## デコーダー2\n",
    "表示だけ"
   ]
  },
  {
   "cell_type": "code",
   "execution_count": null,
   "id": "13b44cc1-ec03-4048-80b9-aa3b4f2c585d",
   "metadata": {
    "tags": []
   },
   "outputs": [],
   "source": [
    "d2_model = keras.models.load_model(d2_model_path,custom_objects={\"specificity\":specificity})\n",
    "all_data = stim_data[:,:ch_size,:]\n",
    "predictclass_list = []\n",
    "for i in range(all_data.shape[0]):\n",
    "    predictclass_list.append(eval_sequence(all_data[i,:,:],block_size,step,transpose_raw1d,d2_model))\n",
    "\n",
    "analyse1()\n",
    "analyse2()"
   ]
  },
  {
   "cell_type": "markdown",
   "id": "63e50819-9051-4a13-b14e-8941114f71d1",
   "metadata": {},
   "source": [
    "# ログ書き込み"
   ]
  },
  {
   "cell_type": "code",
   "execution_count": null,
   "id": "40da0dcd-6b02-47c8-8574-86e73963d19f",
   "metadata": {
    "tags": []
   },
   "outputs": [],
   "source": [
    "import csv\n",
    "log_path = \"C:/MLA_Saves_Bk/evals/output_acc.csv\"\n",
    "with open(log_path, 'a') as f:\n",
    "    writer = csv.writer(f, lineterminator='\\n') # 行末は改行\n",
    "    nlst = data_path.replace(\"C:/MLA_Saves_Bk/\",\"\").replace(\"\\\\\",\"/\").split(\"/\")\n",
    "    writer.writerow([nlst[0],nlst[1],nlst[2],\n",
    "                     data_acc,data_fixed_acc,\n",
    "                     d1_acc,d1_fixed_acc])\n",
    "log_path = \"C:/MLA_Saves_Bk/evals/output_ex.csv\"\n",
    "with open(log_path, 'a') as f:\n",
    "    writer = csv.writer(f, lineterminator='\\n') # 行末は改行\n",
    "    nlst = data_path.replace(\"C:/MLA_Saves_Bk/\",\"\").replace(\"\\\\\",\"/\").split(\"/\")\n",
    "    writer.writerow([nlst[0],nlst[1],nlst[2],\n",
    "                     data_recall,data_fixed_recall,\n",
    "                     d1_recall,d1_fixed_recall,\n",
    "                     \"/\",\n",
    "                     data_spec,data_fixed_spec,\n",
    "                     d1_spec,d1_fixed_spec])"
   ]
  }
 ],
 "metadata": {
  "kernelspec": {
   "display_name": "Python 3 (ipykernel)",
   "language": "python",
   "name": "python3"
  },
  "language_info": {
   "codemirror_mode": {
    "name": "ipython",
    "version": 3
   },
   "file_extension": ".py",
   "mimetype": "text/x-python",
   "name": "python",
   "nbconvert_exporter": "python",
   "pygments_lexer": "ipython3",
   "version": "3.9.12"
  }
 },
 "nbformat": 4,
 "nbformat_minor": 5
}
