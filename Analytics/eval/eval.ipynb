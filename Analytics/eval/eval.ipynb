{
 "cells": [
  {
   "cell_type": "code",
   "execution_count": null,
   "id": "fb456afc",
   "metadata": {
    "editable": true,
    "slideshow": {
     "slide_type": ""
    },
    "tags": []
   },
   "outputs": [],
   "source": [
    "import os\n",
    "import sys\n",
    "sys.path.append(os.path.join(os.path.dirname(os.path.abspath('__file__')), '..'))\n",
    "import numpy as np\n",
    "import matplotlib.pyplot as plt\n",
    "\n",
    "from scipy.signal import spectrogram\n",
    "\n",
    "from sklearn.linear_model import LinearRegression\n",
    "from train_code.generator.raw_generator import transpose_raw1d,transpose_raw2d\n",
    "from npy2trials import load_data\n",
    "from sklearn.preprocessing import StandardScaler\n",
    "from scipy.signal import butter, filtfilt, periodogram\n",
    "from predict_by_another import predict,preprocess\n",
    "from analyse1 import analyse1\n",
    "ch_list = ['FC5','FC1','FC2','FC6','C3','C1','Cz','C2','C4','CP5','CP1','CP2','CP6']\n",
    "ch_size = len(ch_list)\n",
    "block_size = 750\n",
    "step = 250\n",
    "fs = 500"
   ]
  },
  {
   "cell_type": "code",
   "execution_count": null,
   "id": "16297418-339c-4f15-b168-7a18552209c6",
   "metadata": {
    "editable": true,
    "slideshow": {
     "slide_type": ""
    },
    "tags": [
     "parameters"
    ]
   },
   "outputs": [],
   "source": [
    "data_path = \"C:/Users/gomar/Dropbox/輸送/test2.npy\"\n",
    "d1_model_path = \"C:/Users/gomar/Dropbox/輸送/models/dec1/model-85.h5\"\n",
    "d2_model_path = \"C:/Users/gomar/Dropbox/輸送/models/dec2/model-23.h5\""
   ]
  },
  {
   "cell_type": "code",
   "execution_count": null,
   "id": "b414d248",
   "metadata": {
    "editable": true,
    "slideshow": {
     "slide_type": ""
    },
    "tags": []
   },
   "outputs": [],
   "source": [
    "full_data = np.load(data_path)\n",
    "stim_data,predictclass_list,trueclass_list = load_data(full_data,fs)\n",
    "minp = len(predictclass_list[0]) #TODO:15d1s2\n",
    "for item in predictclass_list:\n",
    "    if minp > len(item):\n",
    "        minp = len(item)\n",
    "predictclass_list = [item[:minp] for item in predictclass_list]\n",
    "stim_data.shape"
   ]
  },
  {
   "cell_type": "markdown",
   "id": "150d5c0e-1b70-4dcf-957d-61b897326340",
   "metadata": {},
   "source": [
    "# データプレビュー"
   ]
  },
  {
   "cell_type": "code",
   "execution_count": null,
   "id": "28976212-91ab-4d97-95a9-fb19bbddba7c",
   "metadata": {
    "tags": []
   },
   "outputs": [],
   "source": [
    "left_data = []\n",
    "right_data = []\n",
    "\n",
    "for i in range(stim_data.shape[0]):\n",
    "    data = stim_data[i,:ch_size,:]\n",
    "    y = trueclass_list[i]\n",
    "    if y==1:\n",
    "        left_data.append(preprocess(data,fs))\n",
    "    else:\n",
    "        right_data.append(preprocess(data,fs))\n",
    "left_data = np.array(left_data)\n",
    "right_data = np.array(right_data)\n",
    "\n",
    "def plot_spec(key:str,data,ft=None):\n",
    "    row = 5\n",
    "    col = 3\n",
    "    fig = plt.figure(figsize=(20, 12))\n",
    "    plt.subplots_adjust(wspace=0.4, hspace=0.8)\n",
    "    if ft is None:\n",
    "        specs = [[] for _ in range(data.shape[0])]\n",
    "        for i in range(data.shape[0]):\n",
    "            for j in range(data.shape[1]):\n",
    "                frequencies, times, spectrogram_data = spectrogram(data[i,j,:], fs)\n",
    "                specs[i].append(spectrogram_data)\n",
    "        specs = np.array(specs)\n",
    "        specs = np.sum(specs,axis=0)\n",
    "    else:\n",
    "        frequencies, times = ft\n",
    "        specs = data\n",
    "    # スペクトログラムの可視化\n",
    "    for i in range(ch_size):\n",
    "        plt.subplot(row, col, i+1)\n",
    "        p = 10 * np.log10(specs[i,:,:]) \n",
    "        #p = np.log(np.abs(p))\n",
    "        plt.pcolormesh(times, frequencies, p,vmax=16)\n",
    "        plt.colorbar()#label='Power/Frequency (dB/Hz)')\n",
    "        plt.title(ch_list[i])\n",
    "        #plt.clim(-50, 5) \n",
    "        plt.ylim(0, 50)\n",
    "        plt.grid()\n",
    "    fig.suptitle(key + ' Spectrogram')\n",
    "    plt.show()\n",
    "    return frequencies, times,specs\n",
    "frequencies, times,sl = plot_spec(\"Left\",left_data)\n",
    "_,_,sr = plot_spec(\"Right\",right_data)\n",
    "\n",
    "row = 5\n",
    "col = 3\n",
    "fig = plt.figure(figsize=(10, 6))\n",
    "plt.subplots_adjust(wspace=0.4, hspace=0.6)\n",
    "specs = sr - sl\n",
    "# スペクトログラムの可視化\n",
    "for i in range(ch_size):\n",
    "    plt.subplot(row, col, i+1)\n",
    "    plt.pcolormesh(times, frequencies, specs[i,:,:], shading='gouraud')\n",
    "    plt.colorbar()#label='Power/Frequency (dB/Hz)')\n",
    "    #plt.clim(-50, 5) \n",
    "    plt.ylim(0, 25)\n",
    "    plt.grid()\n",
    "fig.suptitle(\"Diff Spectrogram\")\n",
    "plt.show()"
   ]
  },
  {
   "cell_type": "markdown",
   "id": "e83d9185-147a-40f2-abd8-7a06aee786c2",
   "metadata": {},
   "source": [
    "# 評価"
   ]
  },
  {
   "cell_type": "code",
   "execution_count": null,
   "id": "49eed816",
   "metadata": {
    "tags": []
   },
   "outputs": [],
   "source": [
    "data_metrics,data_detailed_metrics,mn_predictclass_list = analyse1(trueclass_list,predictclass_list)"
   ]
  },
  {
   "cell_type": "code",
   "execution_count": null,
   "id": "69003f78",
   "metadata": {
    "tags": []
   },
   "outputs": [],
   "source": [
    "def plot_lg(x,y,color):\n",
    "    # 線形回帰モデル、予測値\n",
    "    model = LinearRegression()\n",
    "    model_lin = model.fit(x, y)\n",
    "    y_lin_fit = model_lin.predict(x)\n",
    "    plt.plot(x, y_lin_fit, color = color, linewidth=0.5)\n",
    "def plot_epochs(x,y,title):\n",
    "    # 回帰分析　線形\n",
    "    itlist = np.array([(i,t) for i,t in enumerate(trueclass_list) if t == 1]).T\n",
    "    lx = itlist[0,:].reshape(-1, 1)\n",
    "    ly = y[lx].reshape(-1, 1)\n",
    "    lp = plt.scatter(lx,ly,marker=\"o\",label=\"left hand\")\n",
    "    itlist = np.array([(i,t) for i,t in enumerate(trueclass_list) if t == 2]).T\n",
    "    rx = itlist[0,:].reshape(-1, 1)\n",
    "    ry = y[rx].reshape(-1, 1)\n",
    "    rp = plt.scatter(rx,ry,marker=\"^\",label=\"right hand\")\n",
    "    plt.legend(loc='upper right',bbox_to_anchor=(1.3, 1))\n",
    "    plt.draw()\n",
    "    l_color = lp.get_facecolor()\n",
    "    r_color = rp.get_facecolor()\n",
    "    plot_lg(x,y,'#000000')\n",
    "    plot_lg(lx,ly,l_color)\n",
    "    plot_lg(rx,ry,r_color)\n",
    "    plt.title(title)\n",
    "    plt.show()\n",
    "\n",
    "def analyse2():\n",
    "    #判別ポイントごとの平均\n",
    "    _mn_list = [mpl[:len(mn_predictclass_list[0])] for mpl in mn_predictclass_list]\n",
    "    plt.errorbar(range(len(mn_predictclass_list[0])),np.mean(_mn_list,axis=0),yerr=np.std(_mn_list,axis=0),\n",
    "                 capsize=5,ecolor='orange')\n",
    "    plt.title(\"match 1or0\")\n",
    "    plt.show()\n",
    "    print(np.std(_mn_list,axis=0))\n",
    "    title = \"Length of time matched (mean)\"\n",
    "    x = np.array(range(len(_mn_list))).reshape(-1, 1)\n",
    "    y = np.mean(_mn_list,axis=-1)\n",
    "    plot_epochs(x,y,title)\n",
    "\n",
    "    title = \"Length of time matched (std)\"\n",
    "    x = np.array(range(len(_mn_list))).reshape(-1, 1)\n",
    "    y = np.std(_mn_list,axis=-1)\n",
    "    plot_epochs(x,y,title)\n",
    "analyse2()"
   ]
  },
  {
   "cell_type": "markdown",
   "id": "d5278929-0464-4113-9bdc-7c96213cfa7b",
   "metadata": {},
   "source": [
    "# 以下モデル評価\n",
    "predictclass_listは初期化される"
   ]
  },
  {
   "cell_type": "markdown",
   "id": "d3f112d1-6544-4cd7-85f2-af244f518b9c",
   "metadata": {},
   "source": [
    "## デコーダー1"
   ]
  },
  {
   "cell_type": "code",
   "execution_count": null,
   "id": "e10301d2-f665-44b0-a598-e7d10d770918",
   "metadata": {
    "tags": []
   },
   "outputs": [],
   "source": [
    "predictclass_list = predict(d1_model_path,stim_data,fs,ch_size,block_size,step)\n",
    "d1_metrics,d1_detailed_metrics,_ = analyse1(trueclass_list,predictclass_list)\n",
    "analyse2()"
   ]
  },
  {
   "cell_type": "markdown",
   "id": "63e50819-9051-4a13-b14e-8941114f71d1",
   "metadata": {},
   "source": [
    "# ログ書き込み"
   ]
  },
  {
   "cell_type": "code",
   "execution_count": null,
   "id": "40da0dcd-6b02-47c8-8574-86e73963d19f",
   "metadata": {
    "tags": []
   },
   "outputs": [],
   "source": [
    "import csv\n",
    "for d0,d1,apname in zip([data_metrics,data_detailed_metrics],\n",
    "                  [d1_metrics,d1_detailed_metrics],\n",
    "                  [\"\",\"_detailed\"]):\n",
    "    log_path = \"C:/MLA_Saves_Bk/evals/output_acc\" + apname + \".csv\"\n",
    "    with open(log_path, 'a') as f:\n",
    "        writer = csv.writer(f, lineterminator='\\n') # 行末は改行\n",
    "        nlst = data_path.replace(\"C:/MLA_Saves_Bk/\",\"\").replace(\"\\\\\",\"/\").split(\"/\")\n",
    "        cols = [nlst[0],nlst[1],nlst[2]]\n",
    "        cols += [d0[0][0],d0[1][0]] ##accだけ追加\n",
    "        cols += [d1[0][0],d1[1][0]]\n",
    "        writer.writerow(cols)\n",
    "        \n",
    "for d0,d1,apname in zip([data_metrics,data_detailed_metrics],\n",
    "                  [d1_metrics,d1_detailed_metrics],\n",
    "                  [\"\",\"_detailed\"]):\n",
    "    log_path = \"C:/MLA_Saves_Bk/evals/output_ex\" + apname + \".csv\"\n",
    "    with open(log_path, 'a') as f:\n",
    "        writer = csv.writer(f, lineterminator='\\n') # 行末は改行\n",
    "        nlst = data_path.replace(\"C:/MLA_Saves_Bk/\",\"\").replace(\"\\\\\",\"/\").split(\"/\")\n",
    "        cols = [nlst[0],nlst[1],nlst[2]]\n",
    "        for i in range(1,3):\n",
    "            cols += [d0[0][i],d0[1][i]]#つまり通常とfixed\n",
    "            cols += [d1[0][i],d1[1][i]]\n",
    "            cols += [\"/\"] #評価関数が変わったら / 列挿入\n",
    "        writer.writerow(cols)"
   ]
  }
 ],
 "metadata": {
  "kernelspec": {
   "display_name": "Python 3 (ipykernel)",
   "language": "python",
   "name": "python3"
  },
  "language_info": {
   "codemirror_mode": {
    "name": "ipython",
    "version": 3
   },
   "file_extension": ".py",
   "mimetype": "text/x-python",
   "name": "python",
   "nbconvert_exporter": "python",
   "pygments_lexer": "ipython3",
   "version": "3.9.16"
  }
 },
 "nbformat": 4,
 "nbformat_minor": 5
}
