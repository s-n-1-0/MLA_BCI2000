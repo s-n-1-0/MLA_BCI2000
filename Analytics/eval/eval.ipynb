{
 "cells": [
  {
   "cell_type": "code",
   "execution_count": null,
   "id": "fb456afc",
   "metadata": {
    "editable": true,
    "slideshow": {
     "slide_type": ""
    },
    "tags": []
   },
   "outputs": [],
   "source": [
    "import numpy as np\n",
    "import matplotlib.pyplot as plt\n",
    "from scipy import stats\n",
    "from sklearn.metrics import confusion_matrix\n",
    "from sklearn.linear_model import LinearRegression\n"
   ]
  },
  {
   "cell_type": "code",
   "execution_count": null,
   "id": "16297418-339c-4f15-b168-7a18552209c6",
   "metadata": {
    "editable": true,
    "slideshow": {
     "slide_type": ""
    },
    "tags": [
     "parameters"
    ]
   },
   "outputs": [],
   "source": [
    "data_path = \"C:/MLA_Saves_Bk/10002/s4m2_concatenate.npy\""
   ]
  },
  {
   "cell_type": "code",
   "execution_count": null,
   "id": "b414d248",
   "metadata": {
    "editable": true,
    "slideshow": {
     "slide_type": ""
    },
    "tags": []
   },
   "outputs": [],
   "source": [
    "full_data = np.load(data_path)\n",
    "predictclass_list = []\n",
    "trueclass_list = []\n",
    "for i in range(full_data.shape[0]):\n",
    "    data = full_data[i,:,:]\n",
    "    _trueclass_list = data[-3,:]\n",
    "    true_flags = list((_trueclass_list == 1) | (_trueclass_list == 2))\n",
    "    trueclass_list.append(int(_trueclass_list[true_flags][0]))\n",
    "    si = true_flags.index(True)\n",
    "    ei = true_flags[::-1].index(True)\n",
    "    #plt.plot(range(len(x[si:-ei])),x[si:-ei])\n",
    "    stim_data = data[:,si:-ei-1]\n",
    "    #予測クラスの取得\n",
    "    predict_counts = stim_data[-2,:]\n",
    "    predict_count_indexes = []\n",
    "    prev_pc = -1\n",
    "    for j in range(len(predict_counts)):\n",
    "        pc = predict_counts[j]\n",
    "        if prev_pc != pc:\n",
    "            prev_pc = pc\n",
    "            if pc > 0:\n",
    "                predict_count_indexes.append(j)\n",
    "\n",
    "    #print(predict_count_indexes)\n",
    "    def pick_predictclass(pci):\n",
    "        x = stim_data[-1,pci:pci+100]\n",
    "        mode = stats.mode(x,keepdims=True)[0]\n",
    "        if mode == 0:\n",
    "            for f in x:\n",
    "                if f != 0:\n",
    "                    return f\n",
    "        return mode\n",
    "    #カウントアップと同時に予測フラグが立つわけではないので最頻値で求める\n",
    "    _predictclass_list = [int(pick_predictclass(pci)) for pci in predict_count_indexes]\n",
    "    #plt.plot(range(stim_data[:,pci1:pci1+100].shape[1]),stim_data[-2,pci1:pci1+100])\n",
    "    #plt.plot(range(stim_data[:,pci1:pci1+100].shape[1]),stim_data[-1,pci1:pci1+100])\n",
    "    #print(np.std(_predictclass_list))\n",
    "    predictclass_list.append(_predictclass_list)\n",
    "#predictclass_list"
   ]
  },
  {
   "cell_type": "code",
   "execution_count": null,
   "id": "2287734a",
   "metadata": {},
   "outputs": [],
   "source": [
    "predictclass_mode_list = [int(stats.mode(pcl,keepdims=True)[0]) if len(pcl) > 0 else -1 for pcl in predictclass_list]\n",
    "ans = [trueclass_list[i] == predictclass_mode_list[i] for i in range(len(trueclass_list))]\n",
    "ans2 = np.array(trueclass_list)[ans] #np.array(predictclass_list) & np.array(ans)\n",
    "\"精度:\" , len(ans2)/len(ans)"
   ]
  },
  {
   "cell_type": "code",
   "execution_count": null,
   "id": "49eed816",
   "metadata": {
    "tags": []
   },
   "outputs": [],
   "source": [
    "std_list = []\n",
    "left_mean_list = []\n",
    "left_std_list = []\n",
    "right_mean_list = []\n",
    "right_std_list = []\n",
    "mn_predictclass_list = []\n",
    "print(\"真|判別シークエンス|最頻|〇/×|std|mean\")\n",
    "for tl, pl,pml,a in zip(trueclass_list,predictclass_list,predictclass_mode_list,ans):\n",
    "    std = np.std(pl)\n",
    "    mean = np.mean(pl)\n",
    "    #if tl == 2:\n",
    "    print(tl,pl,pml,\"〇\" if a else \"×\",std,mean)\n",
    "    mn_predictclass_list.append([1 if tl == p else 0 for p in pl])\n",
    "    std_list.append(std)\n",
    "    if tl == 1:#1==left\n",
    "        left_std_list.append(std)\n",
    "        left_mean_list.append(mean)\n",
    "    else:\n",
    "        right_std_list.append(std)\n",
    "        right_mean_list.append(mean)\n",
    "    \n",
    "# 混同行列を作成\n",
    "cm = confusion_matrix(trueclass_list, predictclass_mode_list)\n",
    "# 混同行列を表示\n",
    "print(\"Confusion Matrix:\")\n",
    "print(cm)\n",
    "print(f\"真が左の平均{np.mean(left_mean_list)} 標準偏差{np.mean(left_std_list)}\")\n",
    "print(f\"真が右の平均{np.mean(right_mean_list)} 標準偏差{np.mean(right_std_list)}\")\n",
    "\n",
    "n_conv = 4\n",
    "b = np.ones(n_conv)/n_conv \n",
    "conv = np.convolve(std_list, b, mode=\"full\")\n",
    "plt.plot(range(len(conv)),conv)\n",
    "plt.show()\n"
   ]
  },
  {
   "cell_type": "code",
   "execution_count": null,
   "id": "69003f78",
   "metadata": {
    "tags": []
   },
   "outputs": [],
   "source": [
    "#判別ポイントごとの平均\n",
    "_mn_list = [mpl[:len(mn_predictclass_list[0])] for mpl in mn_predictclass_list]\n",
    "plt.errorbar(range(len(mn_predictclass_list[0])),np.mean(_mn_list,axis=0),yerr=np.std(_mn_list,axis=0),\n",
    "             capsize=5,ecolor='orange')\n",
    "plt.title(\"match 1or0\")\n",
    "plt.show()\n",
    "print(np.std(_mn_list,axis=0))\n",
    "\n",
    "def plot_lg(x,y,color):\n",
    "    # 線形回帰モデル、予測値\n",
    "    model = LinearRegression()\n",
    "    model_lin = model.fit(x, y)\n",
    "    y_lin_fit = model_lin.predict(x)\n",
    "    plt.plot(x, y_lin_fit, color = color, linewidth=0.5)\n",
    "    plt.title(title)\n",
    "def plot_epochs(x,y,title):\n",
    "    # 回帰分析　線形\n",
    "    itlist = np.array([(i,t) for i,t in enumerate(trueclass_list) if t == 1]).T\n",
    "    lx = itlist[0,:].reshape(-1, 1)\n",
    "    ly = y[lx].reshape(-1, 1)\n",
    "    lp = plt.scatter(lx,ly,marker=\"o\",label=\"left hand\")\n",
    "    itlist = np.array([(i,t) for i,t in enumerate(trueclass_list) if t == 2]).T\n",
    "    rx = itlist[0,:].reshape(-1, 1)\n",
    "    ry = y[rx].reshape(-1, 1)\n",
    "    rp = plt.scatter(rx,ry,marker=\"^\",label=\"right hand\")\n",
    "    plt.legend(loc='upper right',bbox_to_anchor=(1.3, 1))\n",
    "    plt.draw()\n",
    "    l_color = lp.get_facecolor()\n",
    "    r_color = rp.get_facecolor()\n",
    "    plot_lg(x,y,'#000000')\n",
    "    plot_lg(lx,ly,l_color)\n",
    "    plot_lg(rx,ry,r_color)\n",
    "    plt.show()\n",
    "\n",
    "title = \"Length of time matched (mean)\"\n",
    "x = np.array(range(len(_mn_list))).reshape(-1, 1)\n",
    "y = np.mean(_mn_list,axis=-1)\n",
    "plot_epochs(x,y,title)\n",
    "\n",
    "title = \"Length of time matched (std)\"\n",
    "x = np.array(range(len(_mn_list))).reshape(-1, 1)\n",
    "y = np.std(_mn_list,axis=-1)\n",
    "plot_epochs(x,y,title)"
   ]
  }
 ],
 "metadata": {
  "kernelspec": {
   "display_name": "Python 3 (ipykernel)",
   "language": "python",
   "name": "python3"
  },
  "language_info": {
   "codemirror_mode": {
    "name": "ipython",
    "version": 3
   },
   "file_extension": ".py",
   "mimetype": "text/x-python",
   "name": "python",
   "nbconvert_exporter": "python",
   "pygments_lexer": "ipython3",
   "version": "3.9.12"
  }
 },
 "nbformat": 4,
 "nbformat_minor": 5
}
